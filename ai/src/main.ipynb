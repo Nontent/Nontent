{
 "cells": [
  {
   "cell_type": "code",
   "execution_count": 1,
   "id": "9cbcea22-318d-44d6-8e78-bd0acb1a3024",
   "metadata": {},
   "outputs": [
    {
     "name": "stderr",
     "output_type": "stream",
     "text": [
      "C:\\Users\\Guillaume\\AppData\\Local\\pypoetry\\Cache\\virtualenvs\\ai-A8mZNIYa-py3.10\\lib\\site-packages\\tqdm\\auto.py:21: TqdmWarning: IProgress not found. Please update jupyter and ipywidgets. See https://ipywidgets.readthedocs.io/en/stable/user_install.html\n",
      "  from .autonotebook import tqdm as notebook_tqdm\n"
     ]
    }
   ],
   "source": [
    "# DataFrame\n",
    "import pandas as pd\n",
    "\n",
    "# Transformers\n",
    "from transformers import AutoTokenizer, AutoModelForSequenceClassification\n",
    "\n",
    "# nltk\n",
    "import nltk\n",
    "from nltk import FreqDist\n",
    "from nltk.corpus import stopwords\n",
    "from nltk.stem import SnowballStemmer\n",
    "\n",
    "# Utility\n",
    "import re\n",
    "\n",
    "# sklearn\n",
    "from sklearn.feature_extraction.text import CountVectorizer\n",
    "from sklearn.model_selection import train_test_split\n",
    "from sklearn.linear_model import LogisticRegression\n",
    "from sklearn.metrics import accuracy_score\n",
    "from sklearn.manifold import TSNE\n",
    "\n",
    "# matplotlib\n",
    "import matplotlib.pyplot as plt\n",
    "\n",
    "# seaborn\n",
    "import seaborn as sns"
   ]
  },
  {
   "cell_type": "code",
   "execution_count": 2,
   "id": "75839ba2-f7a9-4df1-9300-81e4325506c9",
   "metadata": {},
   "outputs": [
    {
     "name": "stderr",
     "output_type": "stream",
     "text": [
      "[nltk_data] Downloading package stopwords to\n",
      "[nltk_data]     C:\\Users\\Guillaume\\AppData\\Roaming\\nltk_data...\n",
      "[nltk_data]   Package stopwords is already up-to-date!\n"
     ]
    },
    {
     "data": {
      "text/plain": [
       "True"
      ]
     },
     "execution_count": 2,
     "metadata": {},
     "output_type": "execute_result"
    }
   ],
   "source": [
    "nltk.download(\"stopwords\")"
   ]
  },
  {
   "cell_type": "code",
   "execution_count": 3,
   "id": "6ba3fd9c-1ba9-4ca3-8f29-e720cd46d49e",
   "metadata": {},
   "outputs": [
    {
     "name": "stdout",
     "output_type": "stream",
     "text": [
      "CPU times: total: 31.2 ms\n",
      "Wall time: 25.3 ms\n"
     ]
    }
   ],
   "source": [
    "%%time\n",
    "df = pd.read_csv(\"../data/tweets.csv\", low_memory=False)"
   ]
  },
  {
   "cell_type": "code",
   "execution_count": 4,
   "id": "2f13bea4-9ec0-4151-a4a1-07eed3b7d5dc",
   "metadata": {},
   "outputs": [
    {
     "data": {
      "text/html": [
       "<div>\n",
       "<style scoped>\n",
       "    .dataframe tbody tr th:only-of-type {\n",
       "        vertical-align: middle;\n",
       "    }\n",
       "\n",
       "    .dataframe tbody tr th {\n",
       "        vertical-align: top;\n",
       "    }\n",
       "\n",
       "    .dataframe thead th {\n",
       "        text-align: right;\n",
       "    }\n",
       "</style>\n",
       "<table border=\"1\" class=\"dataframe\">\n",
       "  <thead>\n",
       "    <tr style=\"text-align: right;\">\n",
       "      <th></th>\n",
       "      <th>tweet</th>\n",
       "      <th>label</th>\n",
       "    </tr>\n",
       "  </thead>\n",
       "  <tbody>\n",
       "    <tr>\n",
       "      <th>0</th>\n",
       "      <td>Police arrest 10 suspects in connection with a...</td>\n",
       "      <td>WAR</td>\n",
       "    </tr>\n",
       "    <tr>\n",
       "      <th>1</th>\n",
       "      <td>Unrest continues in the Middle East as fightin...</td>\n",
       "      <td>WAR</td>\n",
       "    </tr>\n",
       "    <tr>\n",
       "      <th>2</th>\n",
       "      <td>Authorities seize a shipment of illegal drugs ...</td>\n",
       "      <td>WAR</td>\n",
       "    </tr>\n",
       "    <tr>\n",
       "      <th>3</th>\n",
       "      <td>Breaking: A shootout between rival gangs in th...</td>\n",
       "      <td>WAR</td>\n",
       "    </tr>\n",
       "    <tr>\n",
       "      <th>4</th>\n",
       "      <td>Police investigate a series of carjackings in ...</td>\n",
       "      <td>WAR</td>\n",
       "    </tr>\n",
       "  </tbody>\n",
       "</table>\n",
       "</div>"
      ],
      "text/plain": [
       "                                               tweet label\n",
       "0  Police arrest 10 suspects in connection with a...   WAR\n",
       "1  Unrest continues in the Middle East as fightin...   WAR\n",
       "2  Authorities seize a shipment of illegal drugs ...   WAR\n",
       "3  Breaking: A shootout between rival gangs in th...   WAR\n",
       "4  Police investigate a series of carjackings in ...   WAR"
      ]
     },
     "execution_count": 4,
     "metadata": {},
     "output_type": "execute_result"
    }
   ],
   "source": [
    "df.head()"
   ]
  },
  {
   "cell_type": "markdown",
   "id": "1b65ccff-f024-4be5-ab78-3cdc5638abf4",
   "metadata": {
    "tags": []
   },
   "source": [
    "## Pre-Process"
   ]
  },
  {
   "cell_type": "code",
   "execution_count": 5,
   "id": "df18e870-e1d7-414a-9bc5-5c5259fd4a22",
   "metadata": {},
   "outputs": [],
   "source": [
    "stop_words = stopwords.words(\"english\")\n",
    "stemmer = SnowballStemmer(\"english\")"
   ]
  },
  {
   "cell_type": "code",
   "execution_count": 6,
   "id": "6919df79-88c9-4e14-84f0-84354856026e",
   "metadata": {},
   "outputs": [],
   "source": [
    "def preprocess(text, stem=False):\n",
    "    # Remove link, user and special characters\n",
    "    text = re.sub(\n",
    "        r\"@\\S+|https?:\\S+|http?:\\S|[^A-Za-z0-9]+\", \" \", str(text).lower()\n",
    "    ).strip()\n",
    "    tokens = []\n",
    "    for token in text.split():\n",
    "        if token not in stop_words:\n",
    "            if stem:\n",
    "                tokens.append(stemmer.stem(token))\n",
    "            else:\n",
    "                tokens.append(token)\n",
    "    return \" \".join(tokens)"
   ]
  },
  {
   "cell_type": "code",
   "execution_count": 7,
   "id": "d29addc0-2ce4-4157-9946-b5e9d1f0aaf0",
   "metadata": {},
   "outputs": [
    {
     "name": "stdout",
     "output_type": "stream",
     "text": [
      "CPU times: total: 125 ms\n",
      "Wall time: 170 ms\n"
     ]
    }
   ],
   "source": [
    "%%time\n",
    "df.tweet = df.tweet.apply(lambda x: preprocess(x))"
   ]
  },
  {
   "cell_type": "code",
   "execution_count": 8,
   "id": "362eea40-0aa6-4a61-875a-d6974c118954",
   "metadata": {},
   "outputs": [
    {
     "data": {
      "text/html": [
       "<div>\n",
       "<style scoped>\n",
       "    .dataframe tbody tr th:only-of-type {\n",
       "        vertical-align: middle;\n",
       "    }\n",
       "\n",
       "    .dataframe tbody tr th {\n",
       "        vertical-align: top;\n",
       "    }\n",
       "\n",
       "    .dataframe thead th {\n",
       "        text-align: right;\n",
       "    }\n",
       "</style>\n",
       "<table border=\"1\" class=\"dataframe\">\n",
       "  <thead>\n",
       "    <tr style=\"text-align: right;\">\n",
       "      <th></th>\n",
       "      <th>tweet</th>\n",
       "      <th>label</th>\n",
       "    </tr>\n",
       "  </thead>\n",
       "  <tbody>\n",
       "    <tr>\n",
       "      <th>0</th>\n",
       "      <td>police arrest 10 suspects connection recent st...</td>\n",
       "      <td>WAR</td>\n",
       "    </tr>\n",
       "    <tr>\n",
       "      <th>1</th>\n",
       "      <td>unrest continues middle east fighting intensif...</td>\n",
       "      <td>WAR</td>\n",
       "    </tr>\n",
       "    <tr>\n",
       "      <th>2</th>\n",
       "      <td>authorities seize shipment illegal drugs worth...</td>\n",
       "      <td>WAR</td>\n",
       "    </tr>\n",
       "    <tr>\n",
       "      <th>3</th>\n",
       "      <td>breaking shootout rival gangs city leaves thre...</td>\n",
       "      <td>WAR</td>\n",
       "    </tr>\n",
       "    <tr>\n",
       "      <th>4</th>\n",
       "      <td>police investigate series carjackings suburbs ...</td>\n",
       "      <td>WAR</td>\n",
       "    </tr>\n",
       "  </tbody>\n",
       "</table>\n",
       "</div>"
      ],
      "text/plain": [
       "                                               tweet label\n",
       "0  police arrest 10 suspects connection recent st...   WAR\n",
       "1  unrest continues middle east fighting intensif...   WAR\n",
       "2  authorities seize shipment illegal drugs worth...   WAR\n",
       "3  breaking shootout rival gangs city leaves thre...   WAR\n",
       "4  police investigate series carjackings suburbs ...   WAR"
      ]
     },
     "execution_count": 8,
     "metadata": {},
     "output_type": "execute_result"
    }
   ],
   "source": [
    "df.head()"
   ]
  },
  {
   "cell_type": "markdown",
   "id": "522bb7f4-b6e6-4fd1-ab51-aa546b8d1ab4",
   "metadata": {
    "tags": []
   },
   "source": [
    "## Little analysis"
   ]
  },
  {
   "cell_type": "markdown",
   "id": "cc92d5d1-e168-4424-9aa4-48784b0b82f2",
   "metadata": {},
   "source": [
    "#### Label distribution"
   ]
  },
  {
   "cell_type": "code",
   "execution_count": 9,
   "id": "7d8f7edd-0754-453d-a136-5037be5fa3be",
   "metadata": {},
   "outputs": [
    {
     "data": {
      "image/png": "[encoded data removed]",
      "text/plain": [
       "<Figure size 640x480 with 1 Axes>"
      ]
     },
     "metadata": {},
     "output_type": "display_data"
    }
   ],
   "source": [
    "# convert a collection of text documents to a matrix of token counts.\n",
    "vectorizer = CountVectorizer()\n",
    "X_vec = vectorizer.fit_transform(df[\"tweet\"])\n",
    "\n",
    "# get the list of vocabulary words\n",
    "vocab = vectorizer.get_feature_names_out()\n",
    "\n",
    "labels = df[\"label\"].values\n",
    "label_counts = dict(FreqDist(labels))\n",
    "\n",
    "sns.barplot(x=list(label_counts.keys()), y=list(label_counts.values()))\n",
    "plt.title(\"Distribution des étiquettes\")\n",
    "plt.xticks(rotation=45)\n",
    "plt.show()"
   ]
  },
  {
   "cell_type": "markdown",
   "id": "da486ed5-d089-4f07-979a-ffd9e9f45afa",
   "metadata": {},
   "source": [
    "#### 20 most frequent words"
   ]
  },
  {
   "cell_type": "code",
   "execution_count": 10,
   "id": "96f1bccb-c90d-4044-a3d5-bd26c69eca22",
   "metadata": {},
   "outputs": [
    {
     "data": {
      "image/png": "[encoded data removed]",
      "text/plain": [
       "<Figure size 640x480 with 1 Axes>"
      ]
     },
     "metadata": {},
     "output_type": "display_data"
    }
   ],
   "source": [
    "word_counts = dict(zip(vocab, X_vec.sum(axis=0).tolist()[0]))\n",
    "\n",
    "top_words = sorted(word_counts, key=word_counts.get, reverse=True)[:20]\n",
    "sns.barplot(x=top_words, y=[word_counts[word] for word in top_words])\n",
    "plt.title(\"20 mots les plus fréquents\")\n",
    "plt.xticks(rotation=45)\n",
    "plt.show()"
   ]
  },
  {
   "cell_type": "markdown",
   "id": "dfc31618-f489-464e-9674-6c96ef03b30b",
   "metadata": {},
   "source": [
    "## Split data into training and test sets"
   ]
  },
  {
   "cell_type": "code",
   "execution_count": 11,
   "id": "332a8892-86a5-4e5e-b819-df1afb3ca28a",
   "metadata": {},
   "outputs": [],
   "source": [
    "X_train, X_test, y_train, y_test = train_test_split(\n",
    "    df[\"tweet\"], df[\"label\"], test_size=0.2, random_state=42\n",
    ")\n",
    "\n",
    "X_train_vec = vectorizer.fit_transform(X_train)\n",
    "X_test_vec = vectorizer.transform(X_test)"
   ]
  },
  {
   "cell_type": "markdown",
   "id": "d68b2e2e-b4be-40e7-a3a5-54c6d098d71a",
   "metadata": {},
   "source": [
    "## Train model"
   ]
  },
  {
   "cell_type": "code",
   "execution_count": null,
   "id": "941c9c22-b789-4895-9fbe-e5887eff12cc",
   "metadata": {},
   "outputs": [],
   "source": [
    "model = LogisticRegression()\n",
    "model.fit(X_train_vec, y_train)"
   ]
  },
  {
   "cell_type": "markdown",
   "id": "1091b7c4-4871-4c66-8cbf-d97850faf668",
   "metadata": {},
   "source": [
    "### Accuracy"
   ]
  },
  {
   "cell_type": "code",
   "execution_count": 13,
   "id": "496f7b44-8194-4800-ad67-ae8d880fc997",
   "metadata": {},
   "outputs": [
    {
     "name": "stdout",
     "output_type": "stream",
     "text": [
      "Accuracy: 0.9175531914893617\n"
     ]
    }
   ],
   "source": [
    "y_pred = model.predict(X_test_vec)\n",
    "\n",
    "accuracy = accuracy_score(y_test, y_pred)\n",
    "print(\"Accuracy:\", accuracy)"
   ]
  },
  {
   "cell_type": "markdown",
   "id": "58374a70-5d70-4258-89e6-b6bd1868badb",
   "metadata": {},
   "source": [
    "## Test"
   ]
  },
  {
   "cell_type": "code",
   "execution_count": 14,
   "id": "efc824df-ffe7-4c1a-a392-a8b9b03824c7",
   "metadata": {},
   "outputs": [],
   "source": [
    "def prompt_preprocess(prompt):\n",
    "    prompt_processed = preprocess(prompt)\n",
    "    prompt_vec = vectorizer.transform([prompt_processed])\n",
    "\n",
    "    print(f\"{prompt_processed}\\n\")\n",
    "    return prompt_vec\n",
    "\n",
    "\n",
    "def diplay_probability(prompt_vec):\n",
    "    proba = model.predict_proba(prompt_vec)[0]\n",
    "\n",
    "    classes = model.classes_\n",
    "    sorted_indices = proba.argsort()[::-1]\n",
    "    for i in sorted_indices:\n",
    "        print(f\"{classes[i]}: {proba[i]*100:.2f}%\")"
   ]
  },
  {
   "cell_type": "code",
   "execution_count": null,
   "id": "332f9f4b-5760-4ade-ae8f-96d1d1f53d9b",
   "metadata": {},
   "outputs": [
    {
     "name": "stdout",
     "output_type": "stream",
     "text": [
      "Paste a tweet:  EPISODE 6 ❤️‍🩹🫡🏌🏿‍♂️🥂🔥🎬  “Let Her Go” Ft ❓❓❓❓  LOVESICK 2023 🫡 🇺🇸 \n"
     ]
    },
    {
     "name": "stdout",
     "output_type": "stream",
     "text": [
      "episode 6 let go ft lovesick 2023\n",
      "\n",
      "MUSIC: 22.99%\n",
      "POLICY: 21.62%\n",
      "WAR: 13.15%\n",
      "FOOD: 12.32%\n",
      "SPORT: 7.34%\n",
      "CINEMA: 6.22%\n",
      "MARKETING: 3.34%\n",
      "GAMING: 3.30%\n",
      "TECH: 3.09%\n",
      "MEDICAL: 2.99%\n",
      "LITERATURE: 2.76%\n",
      "SCIENCE: 0.87%\n"
     ]
    }
   ],
   "source": [
    "prompt = input(\"Paste a tweet: \")\n",
    "prompt_processed = prompt_preprocess(prompt)\n",
    "diplay_probability(prompt_processed)"
   ]
  }
 ],
 "metadata": {
  "kernelspec": {
   "display_name": "Poetry",
   "language": "python",
   "name": "poetry-kernel"
  },
  "language_info": {
   "codemirror_mode": {
    "name": "ipython",
    "version": 3
   },
   "file_extension": ".py",
   "mimetype": "text/x-python",
   "name": "python",
   "nbconvert_exporter": "python",
   "pygments_lexer": "ipython3",
   "version": "3.10.5"
  }
 },
 "nbformat": 4,
 "nbformat_minor": 5
}
